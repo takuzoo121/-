{
 "cells": [
  {
   "cell_type": "markdown",
   "metadata": {
    "deletable": true,
    "editable": true
   },
   "source": [
    "# 3層の深層学習で分類"
   ]
  },
  {
   "cell_type": "markdown",
   "metadata": {
    "deletable": true,
    "editable": true
   },
   "source": [
    "## データの取得\n",
    "Rにあるspamデータ"
   ]
  },
  {
   "cell_type": "code",
   "execution_count": 5,
   "metadata": {
    "collapsed": false,
    "deletable": true,
    "editable": true
   },
   "outputs": [],
   "source": [
    "import csv\n",
    "def open_with_python_csv(filename):\n",
    "    data = []\n",
    "    with open(filename, 'r') as filename:\n",
    "        reader = csv.reader(filename)\n",
    "        # ヘッダ行は特別扱い\n",
    "        header = next(reader)\n",
    "        # 中身\n",
    "        for row in reader:\n",
    "            data.append(row)\n",
    "    return header, data\n",
    "\n",
    "header, data = open_with_python_csv(\"spam.csv\")"
   ]
  },
  {
   "cell_type": "code",
   "execution_count": 12,
   "metadata": {
    "collapsed": false,
    "deletable": true,
    "editable": true
   },
   "outputs": [
    {
     "name": "stdout",
     "output_type": "stream",
     "text": [
      "['0.21', ' 0.28', '0.50', ' 0.00', ' 0.14', '0.28', '0.21', ' 0.07', '0.00', ' 0.94', '0.21', '0.79', '0.65', ' 0.21', '0.14', ' 0.14', '0.07', '0.28', ' 3.47', ' 0.00', ' 1.59', ' 0.00', '0.43', ' 0.43', ' 0.00', ' 0.00', ' 0.00', '0.00', ' 0.00', '0.00', ' 0.00', '0.00', ' 0.00', '0.00', ' 0.00', '0.00', '0.07', '0.00', ' 0.00', '0.00', '0.00', ' 0.00', '0.00', ' 0.00', ' 0.00', ' 0.00', '0.00', ' 0.00', '0.000', '0.132', '0.000', ' 0.372', '0.180', ' 0.048', '   5.114', ' 101', ' 1028', 'spam']\n",
      "['0.21', ' 0.28', '0.50', ' 0.00', ' 0.14', '0.28', '0.21', ' 0.07', '0.00', ' 0.94', '0.21', '0.79', '0.65', ' 0.21', '0.14', ' 0.14', '0.07', '0.28', ' 3.47', ' 0.00', ' 1.59', ' 0.00', '0.43', ' 0.43', ' 0.00', ' 0.00', ' 0.00', '0.00', ' 0.00', '0.00', ' 0.00', '0.00', ' 0.00', '0.00', ' 0.00', '0.00', '0.07', '0.00', ' 0.00', '0.00', '0.00', ' 0.00', '0.00', ' 0.00', ' 0.00', ' 0.00', '0.00', ' 0.00', '0.000', '0.132', '0.000', ' 0.372', '0.180', ' 0.048', '   5.114', ' 101', ' 1028']\n"
     ]
    }
   ],
   "source": [
    "print(data[1])\n",
    "print(data[1][0:57])"
   ]
  },
  {
   "cell_type": "code",
   "execution_count": 21,
   "metadata": {
    "collapsed": false,
    "deletable": true,
    "editable": true
   },
   "outputs": [],
   "source": [
    "import numpy as np\n",
    "spam = np.array(data[:][:])"
   ]
  },
  {
   "cell_type": "code",
   "execution_count": 29,
   "metadata": {
    "collapsed": false,
    "deletable": true,
    "editable": true
   },
   "outputs": [],
   "source": [
    "#説明変数\n",
    "spam_x = spam[:, 0:57]\n",
    "#被説明変数\n",
    "spam_y = spam[:, 57]"
   ]
  },
  {
   "cell_type": "code",
   "execution_count": 65,
   "metadata": {
    "collapsed": false,
    "deletable": true,
    "editable": true
   },
   "outputs": [],
   "source": [
    "#数値配列に変換\n",
    "spam_x2 = spam_x.astype(np.float32)\n",
    "#0,1に変換\n",
    "spam_y2 = np.zeros([spam_y.shape[0], 2])\n",
    "for i in range(4601):\n",
    "    if(spam_y[i] == \"spam\"):\n",
    "        spam_y2[i, 0] = 1\n",
    "    else:\n",
    "        spam_y2[i, 1] = 1"
   ]
  },
  {
   "cell_type": "markdown",
   "metadata": {
    "deletable": true,
    "editable": true
   },
   "source": [
    "## 訓練データとテストデータに分ける"
   ]
  },
  {
   "cell_type": "code",
   "execution_count": 67,
   "metadata": {
    "collapsed": true,
    "deletable": true,
    "editable": true
   },
   "outputs": [],
   "source": [
    "from sklearn.model_selection import train_test_split\n",
    "X_train, X_val, y_train, y_val = train_test_split(spam_x2, spam_y2, train_size=0.5, random_state=1)"
   ]
  },
  {
   "cell_type": "markdown",
   "metadata": {
    "deletable": true,
    "editable": true
   },
   "source": [
    "## 深層学習"
   ]
  },
  {
   "cell_type": "markdown",
   "metadata": {
    "deletable": true,
    "editable": true
   },
   "source": [
    "### 3層のNN"
   ]
  },
  {
   "cell_type": "code",
   "execution_count": 114,
   "metadata": {
    "collapsed": false,
    "deletable": true,
    "editable": true
   },
   "outputs": [
    {
     "name": "stdout",
     "output_type": "stream",
     "text": [
      "WARNING:tensorflow:From <ipython-input-114-23d8ecff688f>:65: initialize_all_variables (from tensorflow.python.ops.variables) is deprecated and will be removed after 2017-03-02.\n",
      "Instructions for updating:\n",
      "Use `tf.global_variables_initializer` instead.\n",
      "step= 0 loss= 1.1152 acc= 0.590178\n",
      "step= 1000 loss= 0.388824 acc= 0.878314\n",
      "step= 2000 loss= 0.214691 acc= 0.894828\n",
      "step= 3000 loss= 0.193604 acc= 0.916123\n",
      "step= 4000 loss= 0.19046 acc= 0.924815\n",
      "step= 5000 loss= 0.112461 acc= 0.931769\n",
      "step= 6000 loss= 0.118473 acc= 0.933942\n",
      "step= 7000 loss= 0.153105 acc= 0.929596\n",
      "step= 8000 loss= 0.13627 acc= 0.932638\n",
      "step= 9000 loss= 0.105176 acc= 0.931769\n",
      "正解率= 0.93003\n",
      "93.0030405521 %\n"
     ]
    }
   ],
   "source": [
    "import tensorflow as tf\n",
    "\n",
    "session = tf.InteractiveSession()\n",
    "\n",
    "#プレースホルダーの定義\n",
    "#これに実際のデータ入れる\n",
    "x = tf.placeholder(tf.float32, [None, 57])\n",
    "y_ = tf.placeholder(tf.float32, [None, 2])\n",
    "keep_prob = tf.placeholder(tf.float32)   #dropoutする確率を変数\n",
    "\n",
    "#重みとバイアス\n",
    "#tf.random_normal : 正規分布からランダムな値を出力\n",
    "w1 = tf.Variable(tf.random_normal([57, 10]))\n",
    "b1 = tf.Variable(tf.zeros([10]))\n",
    "\n",
    "#中間層入力\n",
    "u1 = tf.matmul(x, w1) + b1\n",
    "y1 = tf.sigmoid(u1)\n",
    "#y1 = tf.nn.relu(u1)\n",
    "\n",
    "#3層目出力\n",
    "#tf.truncated_normal : 正規分布からランダムな値を出力\n",
    "#w2 = tf.Variable(tf.truncated_normal([10, 4]))\n",
    "w2 = tf.Variable(tf.truncated_normal([10, 2]))\n",
    "#b2 = tf.Variable(tf.zeros([4]))\n",
    "b2 = tf.Variable(tf.zeros([2]))\n",
    "u2 = tf.matmul(y1, w2) + b2\n",
    "#y2 = tf.sigmoid(u2)\n",
    "#ドロップアウト層なし\n",
    "y2 = tf.nn.softmax(u2)\n",
    "\n",
    "#ドロップアウト層\n",
    "#h_fc_drop = tf.nn.dropout(y2, keep_prob)   \n",
    "\n",
    "#出力を定義\n",
    "#w3 = tf.Variable(tf.truncated_normal([4, 2]))\n",
    "#b3 = tf.Variable(tf.zeros([2]))\n",
    "#u3 = tf.matmul(h_fc_drop, w3) + b3\n",
    "#y3 = tf.nn.softmax(u3)\n",
    "\n",
    "#ドロップアウトなし\n",
    "y = y2\n",
    "#ドロップアウトあり\n",
    "#y = y3\n",
    "\n",
    "#交差エントロピーによる誤差関数\n",
    "cross_entoropy = tf.reduce_mean(-tf.reduce_sum(y_ * tf.log(y), reduction_indices=[1]))\n",
    "#optimizer = tf.train.GradientDescentOptimizer(0.1)\n",
    "optimizer = tf.train.AdamOptimizer(1e-3)\n",
    "train_step = optimizer.minimize(cross_entoropy)\n",
    "\n",
    "# モデルの評価 \n",
    "predict_step = tf.equal(tf.argmax(y, 1), tf.argmax(y_, 1))#予想した数字があってるか\n",
    "accuracy_step = tf.reduce_mean(tf.cast(predict_step, tf.float32))#正解率\n",
    "\n",
    "#代入変数の定義\n",
    "#別にいらんな\n",
    "def set_feed(xx, yy, prob):\n",
    "    return {x: xx, y_: yy, keep_prob: prob}\n",
    "\n",
    "#テスト用のfeed\n",
    "test_fd = set_feed(X_val, y_val, 1)\n",
    "\n",
    "#訓練\n",
    "init = tf.initialize_all_variables()\n",
    "session.run(init)\n",
    "\n",
    "for step in range(10000):\n",
    "    #訓練データから適当に100個取得\n",
    "    sampleindices = random.sample(range(X_train.shape[0]), k=100)\n",
    "    batch_x = X_train[sampleindices, :]\n",
    "    batch_y = y_train[sampleindices, :]\n",
    "    fd = set_feed(batch_x, batch_y , 0.5)\n",
    "    \n",
    "    _, loss = session.run([train_step, cross_entoropy], feed_dict=fd)\n",
    "        \n",
    "    #1000ステップごとに損失と正解率を出力\n",
    "    if step % 1000 == 0:\n",
    "        acc = session.run(accuracy_step, feed_dict=test_fd)\n",
    "        print(\"step=\", step, \"loss=\", loss, \"acc=\", acc)\n",
    "    \n",
    "    #train_step.run(fd)\n",
    "    #train_step.run({x: X_train[sampleindices, :], y_: y_train[sampleindices, :], keep_prob:0.5})\n",
    "#train_step.run({x: X_train, t: y_train})\n",
    "\n",
    "#テスト\n",
    "acc = session.run(accuracy_step, feed_dict=test_fd)\n",
    "print(\"正解率=\", acc)\n",
    "\n",
    "correct_prediction = tf.equal(tf.argmax(y, 1), tf.argmax(y_, 1))\n",
    "accuracy = tf.reduce_mean(tf.cast(correct_prediction, tf.float32))\n",
    "print(accuracy.eval(test_fd) * 100, '%')"
   ]
  },
  {
   "cell_type": "code",
   "execution_count": 61,
   "metadata": {
    "collapsed": false,
    "deletable": true,
    "editable": true
   },
   "outputs": [
    {
     "data": {
      "text/plain": [
       "(2300, 57)"
      ]
     },
     "execution_count": 61,
     "metadata": {},
     "output_type": "execute_result"
    }
   ],
   "source": [
    "X_train.shape"
   ]
  },
  {
   "cell_type": "code",
   "execution_count": 62,
   "metadata": {
    "collapsed": false,
    "deletable": true,
    "editable": true
   },
   "outputs": [
    {
     "data": {
      "text/plain": [
       "(2300,)"
      ]
     },
     "execution_count": 62,
     "metadata": {},
     "output_type": "execute_result"
    }
   ],
   "source": [
    "y_train.shape"
   ]
  },
  {
   "cell_type": "code",
   "execution_count": null,
   "metadata": {
    "collapsed": true,
    "deletable": true,
    "editable": true
   },
   "outputs": [],
   "source": []
  }
 ],
 "metadata": {
  "kernelspec": {
   "display_name": "Python 3",
   "language": "python",
   "name": "python3"
  },
  "language_info": {
   "codemirror_mode": {
    "name": "ipython",
    "version": 3
   },
   "file_extension": ".py",
   "mimetype": "text/x-python",
   "name": "python",
   "nbconvert_exporter": "python",
   "pygments_lexer": "ipython3",
   "version": "3.5.0"
  },
  "toc": {
   "nav_menu": {},
   "number_sections": true,
   "sideBar": true,
   "skip_h1_title": false,
   "toc_cell": false,
   "toc_position": {},
   "toc_section_display": "block",
   "toc_window_display": false
  }
 },
 "nbformat": 4,
 "nbformat_minor": 2
}
