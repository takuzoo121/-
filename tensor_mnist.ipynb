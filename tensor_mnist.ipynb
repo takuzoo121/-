{
 "cells": [
  {
   "cell_type": "markdown",
   "metadata": {
    "deletable": true,
    "editable": true
   },
   "source": [
    "# tensorflowで深層学習\n",
    "mnistの手書きデータを深層学習で分類する\n",
    "基本の話\n",
    "https://deepage.net/deep_learning/2016/11/07/convolutional_neural_network.html"
   ]
  },
  {
   "cell_type": "markdown",
   "metadata": {
    "deletable": true,
    "editable": true
   },
   "source": [
    "# 毎回実行しないといけない部分\n",
    "①placeholder\n",
    "②scope(層の準備)\n",
    "③scope(評価法の準備)\n",
    "④session"
   ]
  },
  {
   "cell_type": "markdown",
   "metadata": {
    "deletable": true,
    "editable": true
   },
   "source": [
    "## import"
   ]
  },
  {
   "cell_type": "code",
   "execution_count": 3,
   "metadata": {
    "collapsed": true,
    "deletable": true,
    "editable": true
   },
   "outputs": [],
   "source": [
    "import tensorflow as tf\n",
    "from tensorflow.examples.tutorials.mnist import input_data "
   ]
  },
  {
   "cell_type": "markdown",
   "metadata": {
    "deletable": true,
    "editable": true
   },
   "source": [
    "## 画像データの読み込み"
   ]
  },
  {
   "cell_type": "code",
   "execution_count": 4,
   "metadata": {
    "collapsed": false,
    "deletable": true,
    "editable": true
   },
   "outputs": [
    {
     "name": "stdout",
     "output_type": "stream",
     "text": [
      "Extracting mnist/train-images-idx3-ubyte.gz\n",
      "Extracting mnist/train-labels-idx1-ubyte.gz\n",
      "Extracting mnist/t10k-images-idx3-ubyte.gz\n",
      "Extracting mnist/t10k-labels-idx1-ubyte.gz\n"
     ]
    }
   ],
   "source": [
    "# MINSTの手書き画像データを読み込む --- (※1)\n",
    "mnist = input_data.read_data_sets(\"mnist/\", one_hot=True)"
   ]
  },
  {
   "cell_type": "code",
   "execution_count": 8,
   "metadata": {
    "collapsed": false,
    "deletable": true,
    "editable": true
   },
   "outputs": [],
   "source": [
    "#画像データ\n",
    "#55000の画像データ\n",
    "#print(mnist.train.images)\n",
    "\n",
    "#ラベルデータ(0,1符号化されてる)\n",
    "#mnist.train.labels"
   ]
  },
  {
   "cell_type": "markdown",
   "metadata": {
    "deletable": true,
    "editable": true
   },
   "source": [
    "## 変数の用意\n",
    "x : 入力変数 28×28のベクトル  \n",
    "y : 出力変数(10,1)０から９\n",
    "\n",
    "tensorboardで処理を見やすくするためにname属性で名前をつける"
   ]
  },
  {
   "cell_type": "code",
   "execution_count": 17,
   "metadata": {
    "collapsed": true,
    "deletable": true,
    "editable": true
   },
   "outputs": [],
   "source": [
    "pixels = 28 * 28 # 28x28ピクセル\n",
    "nums = 10 # 0-9の10クラスに分ける\n",
    "\n",
    "# プレースホルダを定義 --- (※2)\n",
    "x  = tf.placeholder(tf.float32, shape=(None, pixels), name=\"x\") # 画像データ\n",
    "y_ = tf.placeholder(tf.float32, shape=(None, nums), name=\"y_\")  # 正解ラベル "
   ]
  },
  {
   "cell_type": "markdown",
   "metadata": {
    "deletable": true,
    "editable": true
   },
   "source": [
    "## 様々な関数\n",
    "関数の初歩\n",
    "https://qiita.com/rindai87/items/4b6f985c0583772a2e21\n",
    "placeholderとvariableの違い\n",
    "https://qiita.com/eve_yk/items/e42431200a1616c7d045\n",
    "深層学習の関数\n",
    "https://qiita.com/tadOne/items/b484ce9f973a9f80036e\n",
    "\n",
    "tf.truncates_normal : 正規分布に従う乱数の生成\n",
    "shape: 戻り値のテンソルの次元\n",
    "stddev : 正規分布の標準偏差\n",
    "\n",
    "tf.Variable : 代入可能な箱(placeholderに近い)\n",
    "計算結果を保持させることを目的に利用します。計算を始める前に初期化が必要\n",
    "W_init : 変数の初期値\n",
    "name : tendorboardで表示される名前(別にいらん)\n",
    "\n",
    "\n",
    "tf.nn.conv2d : 畳み込みを行う関数\n",
    "input : 4次元([batch, in_height, in_width, in_channels])のテンソルを渡す\n",
    "一番最初は画像を読み込んだ後、reshape関数で[-1, in_height, in_width, in_channels]と変換し、渡せばよい\n",
    "\n",
    "filter(W) : 畳込みでinputテンソルとの積和に使用するweightにあたる\n",
    "４次元[filter_height, filter_width, in_channels, channel_multiplier] のテンソルを渡す\n",
    "最後の引数のchannel_multiplierだけchannel数が拡張される\n",
    "\n",
    "stride : ストライド（=１画素ずつではなく、数画素ずつフィルタの適用範囲を計算するための値)を指定\n",
    "ただしstrides[0] = strides[3] = 1. とする必要があるため、指定は[1, stride, stride, 1]と先頭と最後は１固定とする\n",
    "\n",
    "padding : 「'SAME'」か「'VALID'」を利用\n",
    "ゼロパディングを利用する場合はSAMEを指定"
   ]
  },
  {
   "cell_type": "code",
   "execution_count": 18,
   "metadata": {
    "collapsed": true,
    "deletable": true,
    "editable": true
   },
   "outputs": [],
   "source": [
    "# 重みとバイアスを初期化する関数 --- (※3)\n",
    "def weight_variable(name, shape):\n",
    "    W_init = tf.truncated_normal(shape, stddev=0.1)\n",
    "    W = tf.Variable(W_init, name=\"W_\"+name)\n",
    "    return W\n",
    "\n",
    "def bias_variable(name, size):\n",
    "    b_init = tf.constant(0.1, shape=[size])\n",
    "    b = tf.Variable(b_init, name=\"b_\"+name)\n",
    "    return b\n",
    "\n",
    "# 畳み込みを行う関数 --- (※4)\n",
    "def conv2d(x, W):\n",
    "    return tf.nn.conv2d(x, W, strides=[1,1,1,1], padding='SAME')\n",
    "\n",
    "# 最大プーリングを行う関数 --- (※5)\n",
    "def max_pool(x):\n",
    "    return tf.nn.max_pool(x, ksize=[1,2,2,1],\n",
    "        strides=[1,2,2,1], padding='SAME')"
   ]
  },
  {
   "cell_type": "markdown",
   "metadata": {
    "deletable": true,
    "editable": true
   },
   "source": [
    "## 各層の準備\n",
    "tf.name_scope()メソッド\n",
    "処理をスコープに分割する\n",
    "使い方\n",
    "↓\n",
    "with tf.name_scope('名前') as scope:\n",
    "名前　：　tensorboardを使うときその工程の名前\n",
    "\n",
    "### 畳み込み層1のデータ部分の(28,28)を使うデータの大きさで変える\n",
    "### ブーリング層ではデータの大きさが毎回半分に\n",
    "### 全結合レイヤーではそこでのデータの大きさによってnを変える\n",
    "### 読み出し層は出力の大きさによって10の部分を変える"
   ]
  },
  {
   "cell_type": "code",
   "execution_count": 19,
   "metadata": {
    "collapsed": true,
    "deletable": true,
    "editable": true
   },
   "outputs": [],
   "source": [
    "# 畳み込み層1 --- (※6)\n",
    "with tf.name_scope('conv1') as scope:\n",
    "    W_conv1 = weight_variable('conv1', [5, 5, 1, 32])#初期化\n",
    "    b_conv1 = bias_variable('conv1', 32)#初期化\n",
    "    x_image = tf.reshape(x, [-1, 28, 28, 1])#データ\n",
    "    h_conv1 = tf.nn.relu(conv2d(x_image, W_conv1) + b_conv1)#畳み込み(活性化関数としてReLU)\n",
    "\n",
    "# プーリング層1 ---- (※7)\n",
    "with tf.name_scope('pool1') as scope:\n",
    "    h_pool1 = max_pool(h_conv1)#畳み込み層1の結果を使う\n",
    "\n",
    "# 畳み込み層2 --- (※8)\n",
    "with tf.name_scope('conv2') as scope:\n",
    "    W_conv2 = weight_variable('conv2', [5, 5, 32, 64])#初期化\n",
    "    b_conv2 = bias_variable('conv2', 64)#初期化\n",
    "    h_conv2 = tf.nn.relu(conv2d(h_pool1, W_conv2) + b_conv2)#プーリング層の結果を使う(活性化関数ReLU)\n",
    "\n",
    "# プーリング層2 --- (※9)\n",
    "with tf.name_scope('pool2') as scope:\n",
    "    h_pool2 = max_pool(h_conv2)\n",
    "\n",
    "# 全結合レイヤー --- (※10)\n",
    "with tf.name_scope('fully_connected') as scope:\n",
    "    n = 7 * 7 * 64\n",
    "    W_fc = weight_variable('fc', [n, 1024])\n",
    "    b_fc = bias_variable('fc', 1024)\n",
    "    h_pool2_flat = tf.reshape(h_pool2, [-1, n])\n",
    "    h_fc = tf.nn.relu(tf.matmul(h_pool2_flat, W_fc) + b_fc)        \n",
    "\n",
    "# ドロップアウト(過剰適合)を排除 --- (※11)   #全結合ではなく一部を無視(過学習対策)\n",
    "with tf.name_scope('dropout') as scope:\n",
    "    keep_prob = tf.placeholder(tf.float32)   #dropoutする確率を変数\n",
    "    h_fc_drop = tf.nn.dropout(h_fc, keep_prob)   #全結合レイヤーを入力にして上で決めた確率でdropout\n",
    "    \n",
    "# 読み出し層 --- (※12)\n",
    "with tf.name_scope('readout') as scope:\n",
    "    W_fc2 = weight_variable('fc2', [1024, 10])#初期化\n",
    "    b_fc2 = bias_variable('fc2', 10)#初期化\n",
    "    y_conv = tf.nn.softmax(tf.matmul(h_fc_drop, W_fc2) + b_fc2)#softmax関数でどの数字かを0,1符号化で    "
   ]
  },
  {
   "cell_type": "markdown",
   "metadata": {
    "deletable": true,
    "editable": true
   },
   "source": [
    "下サイトにわかりやすいイメージ図\n",
    "https://lp-tech.net/articles/LVB9R"
   ]
  },
  {
   "cell_type": "markdown",
   "metadata": {
    "deletable": true,
    "editable": true
   },
   "source": [
    " ## モデルの学習, 評価用のスコープの設定"
   ]
  },
  {
   "cell_type": "code",
   "execution_count": 20,
   "metadata": {
    "collapsed": true,
    "deletable": true,
    "editable": true
   },
   "outputs": [],
   "source": [
    "# モデルの学習 --- (※13)\n",
    "with tf.name_scope('loss') as scope:\n",
    "    cross_entoropy = -tf.reduce_sum(y_ * tf.log(y_conv))#交差エントロピーで損失を表す\n",
    "    \n",
    "with tf.name_scope('training') as scope:\n",
    "    optimizer = tf.train.AdamOptimizer(1e-4)\n",
    "    train_step = optimizer.minimize(cross_entoropy)#損失を最小にするように最小化\n",
    "\n",
    "# モデルの評価 --- (※14)\n",
    "with tf.name_scope('predict') as scope:\n",
    "    predict_step = tf.equal(tf.argmax(y_conv, 1), tf.argmax(y_, 1))#予想した数字があってるか\n",
    "    accuracy_step = tf.reduce_mean(tf.cast(predict_step, tf.float32))#正解率"
   ]
  },
  {
   "cell_type": "markdown",
   "metadata": {
    "deletable": true,
    "editable": true
   },
   "source": [
    "## feed_dict\n",
    "placeholderは実行時にfeed_dictという仕組みを通じて値を外挿できる仕組み\n",
    "x : 画像データ\n",
    "y_ : ラベルデータ\n",
    "prob : dropoutの確率"
   ]
  },
  {
   "cell_type": "code",
   "execution_count": 21,
   "metadata": {
    "collapsed": true,
    "deletable": true,
    "editable": true
   },
   "outputs": [],
   "source": [
    "# feed_dictの設定 --- (※15)\n",
    "def set_feed(images, labels, prob):\n",
    "    return {x: images, y_: labels, keep_prob: prob}"
   ]
  },
  {
   "cell_type": "markdown",
   "metadata": {
    "deletable": true,
    "editable": true
   },
   "source": [
    "## セッションの開始\n",
    "ここまでのplaceholderは\n",
    "x : 画像データ\n",
    "y_ : ラベルデータ\n",
    "keep_prob : dropoutの確率"
   ]
  },
  {
   "cell_type": "code",
   "execution_count": 25,
   "metadata": {
    "collapsed": false,
    "deletable": true,
    "editable": true
   },
   "outputs": [
    {
     "name": "stdout",
     "output_type": "stream",
     "text": [
      "step= 0 loss= 500.696 acc= 0.1395\n",
      "step= 2 loss= 400.045 acc= 0.1402\n",
      "step= 4 loss= 344.247 acc= 0.1863\n",
      "step= 6 loss= 293.586 acc= 0.2522\n",
      "step= 8 loss= 296.805 acc= 0.2701\n",
      "正解率= 0.2757\n"
     ]
    }
   ],
   "source": [
    "# セッションを開始 --- (※16)\n",
    "with tf.Session() as sess:\n",
    "    #変数の初期化(おまじない)\n",
    "    sess.run(tf.global_variables_initializer())\n",
    "    \n",
    "    # TensorBoardの準備(おまじない)\n",
    "    #このファイルのあるフォルダでtensorboard --logdir=log_dirをコマンドラインでうつと見れる\n",
    "    tw = tf.summary.FileWriter(\"log_dir\", graph=sess.graph)\n",
    "    \n",
    "    # テスト用のフィードを生成(フィード　 = 代入する値)\n",
    "    test_fd = set_feed(mnist.test.images, mnist.test.labels, 1)\n",
    "    \n",
    "    # 訓練を開始 ---- (※17)\n",
    "    for step in range(10):\n",
    "        #ランダムに訓練データから50個選ぶ\n",
    "        batch = mnist.train.next_batch(50)\n",
    "        \n",
    "        #batch[0] : 50個の(28,28)の画像データ\n",
    "        #batch[1] :  50個の(10,1)のラベルデータ\n",
    "        fd = set_feed(batch[0], batch[1], 0.5)\n",
    "        \n",
    "        _, loss = sess.run([train_step, cross_entoropy], feed_dict=fd)\n",
    "        \n",
    "        #100ステップごとに損失と正解率を出力\n",
    "        if step % 2 == 0:\n",
    "            acc = sess.run(accuracy_step, feed_dict=test_fd)\n",
    "            print(\"step=\", step, \"loss=\", loss, \"acc=\", acc)\n",
    "            \n",
    "    # 最終結果を表示\n",
    "    acc = sess.run(accuracy_step, feed_dict=test_fd)\n",
    "    print(\"正解率=\", acc)\n"
   ]
  },
  {
   "cell_type": "code",
   "execution_count": 12,
   "metadata": {
    "collapsed": false,
    "deletable": true,
    "editable": true
   },
   "outputs": [
    {
     "data": {
      "text/plain": [
       "(50, 784)"
      ]
     },
     "execution_count": 12,
     "metadata": {},
     "output_type": "execute_result"
    }
   ],
   "source": [
    "mnist.train.next_batch(50)[0].shape"
   ]
  },
  {
   "cell_type": "code",
   "execution_count": null,
   "metadata": {
    "collapsed": true,
    "deletable": true,
    "editable": true
   },
   "outputs": [],
   "source": []
  }
 ],
 "metadata": {
  "kernelspec": {
   "display_name": "Python 3",
   "language": "python",
   "name": "python3"
  },
  "language_info": {
   "codemirror_mode": {
    "name": "ipython",
    "version": 3
   },
   "file_extension": ".py",
   "mimetype": "text/x-python",
   "name": "python",
   "nbconvert_exporter": "python",
   "pygments_lexer": "ipython3",
   "version": "3.5.0"
  },
  "toc": {
   "nav_menu": {},
   "number_sections": true,
   "sideBar": true,
   "skip_h1_title": false,
   "toc_cell": false,
   "toc_position": {},
   "toc_section_display": "block",
   "toc_window_display": false
  }
 },
 "nbformat": 4,
 "nbformat_minor": 2
}
