{
 "cells": [
  {
   "cell_type": "markdown",
   "metadata": {
    "deletable": true,
    "editable": true
   },
   "source": [
    "# tensorflow使ってみた\n",
    "深層学習ではなくソフトマックス回帰分析による分類をやる"
   ]
  },
  {
   "cell_type": "markdown",
   "metadata": {
    "deletable": true,
    "editable": true
   },
   "source": [
    "## インポート"
   ]
  },
  {
   "cell_type": "code",
   "execution_count": 2,
   "metadata": {
    "collapsed": true,
    "deletable": true,
    "editable": true
   },
   "outputs": [],
   "source": [
    "import pandas as pd\n",
    "import numpy as np\n",
    "import tensorflow as tf"
   ]
  },
  {
   "cell_type": "markdown",
   "metadata": {
    "deletable": true,
    "editable": true
   },
   "source": [
    "## データの取得と整形\n",
    "pd.read_csv：データをRのデータフレーム型で取得\n",
    "height, weight, labelの3つのカラム\n",
    "\n",
    "bclass：辞書クラス\n",
    "\n",
    "csv[\"label_pat\"]：新しいカラムを追加してる\n",
    "series.apply ： seriesの各値に関して関数を実行\n",
    "ここでは[1,0,0],[0,1,0],[0,0,1]のどれかを格納"
   ]
  },
  {
   "cell_type": "code",
   "execution_count": 14,
   "metadata": {
    "collapsed": false,
    "deletable": true,
    "editable": true
   },
   "outputs": [
    {
     "name": "stdout",
     "output_type": "stream",
     "text": [
      "<class 'pandas.core.frame.DataFrame'>\n",
      "(20000, 3)\n"
     ]
    }
   ],
   "source": [
    "# 身長,体重,ラベルのCSVデータを読み出す --- (※1)\n",
    "csv = pd.read_csv(\"/users/yuya/desktop/src/ch5/bmi.csv\")\n",
    "print(type(csv))\n",
    "print(csv.shape)\n",
    "\n",
    "# データを正規化 --- (※2)\n",
    "csv[\"height\"] = csv[\"height\"] / 200#データを大体0〜1にしてる\n",
    "csv[\"weight\"] = csv[\"weight\"] / 100\n",
    "\n",
    "# ラベルを三次元のクラスで表す --- (※3)\n",
    "# - thin=(1,0,0) / normal=(0,1,0) / fat=(0,0,1)\n",
    "bclass = {\"thin\": [1,0,0], \"normal\": [0,1,0], \"fat\": [0,0,1]}#クラスラベルを数字に\n",
    "csv[\"label_pat\"] = csv[\"label\"].apply(lambda x : np.array(bclass[x]))"
   ]
  },
  {
   "cell_type": "markdown",
   "metadata": {
    "deletable": true,
    "editable": true
   },
   "source": [
    "## テストデータの取得\n",
    "5000のデータを性能評価用にする\n",
    "test_pat　：　入力となるデータだけ取得\n",
    "test_ans : 出力のデータを取得"
   ]
  },
  {
   "cell_type": "code",
   "execution_count": 15,
   "metadata": {
    "collapsed": true,
    "deletable": true,
    "editable": true
   },
   "outputs": [],
   "source": [
    "# 正解率を求めるためにテストデータを準備 --- (※4)\n",
    "test_csv = csv[15000:20000]\n",
    "test_pat = test_csv[[\"weight\",\"height\"]]\n",
    "test_ans = list(test_csv[\"label_pat\"])"
   ]
  },
  {
   "cell_type": "markdown",
   "metadata": {
    "deletable": true,
    "editable": true
   },
   "source": [
    "# ここからtensorflowのためのデータフローグラフの構築"
   ]
  },
  {
   "cell_type": "markdown",
   "metadata": {
    "deletable": true,
    "editable": true
   },
   "source": [
    "## 訓練データに対して、\n",
    "placeholder : 身長と体重の2変数が入る予定の入れ物(型：float32, None:任意のサンプル数, 2 : 2変数)"
   ]
  },
  {
   "cell_type": "code",
   "execution_count": 17,
   "metadata": {
    "collapsed": true,
    "deletable": true,
    "editable": true
   },
   "outputs": [],
   "source": [
    "# データフローグラフを構築する --- (※5)\n",
    "# データを入れるプレースホルダを宣言\n",
    "x  = tf.placeholder(tf.float32, [None, 2]) # 身長,体重のデータを入れる\n",
    "y_ = tf.placeholder(tf.float32, [None, 3]) # 答えのラベルを入れる"
   ]
  },
  {
   "cell_type": "markdown",
   "metadata": {
    "deletable": true,
    "editable": true
   },
   "source": [
    "## ソフトマックス回帰の定義\n",
    "y = softmax(Wx + b)\n",
    "W : (2,3) 重み\n",
    "x : (2,1)　データ\n",
    "b : (3,1) バイアス\n",
    "Wとbは0で初期化\n",
    "出力は(3,1)の[1,0,0]のようになってほしい"
   ]
  },
  {
   "cell_type": "code",
   "execution_count": 19,
   "metadata": {
    "collapsed": true,
    "deletable": true,
    "editable": true
   },
   "outputs": [],
   "source": [
    "# 変数を宣言 --- (※6)\n",
    "W = tf.Variable(tf.zeros([2, 3])); # 重み\n",
    "b = tf.Variable(tf.zeros([3])); # バイアス\n",
    "# ソフトマックス回帰を定義 --- (※7)\n",
    "y = tf.nn.softmax(tf.matmul(x, W) + b)"
   ]
  },
  {
   "cell_type": "markdown",
   "metadata": {
    "deletable": true,
    "editable": true
   },
   "source": [
    "## モデル訓練\n",
    "reduce_sum : 任意の次元の全ての要素をたす。何も指定しないと1次元の値を返す\n",
    "train.GradientDescentOptimizer : (optimizerの)学習係数を指定\n",
    "optimizer.minimize : ()ないの関数を最小にするパラメータを決定"
   ]
  },
  {
   "cell_type": "code",
   "execution_count": 20,
   "metadata": {
    "collapsed": true,
    "deletable": true,
    "editable": true
   },
   "outputs": [],
   "source": [
    "# モデルを訓練する --- (※8)\n",
    "cross_entropy = -tf.reduce_sum(y_ * tf.log(y))#誤差関数として交差エントロピー\n",
    "optimizer = tf.train.GradientDescentOptimizer(0.01)#学習係数0.01\n",
    "train = optimizer.minimize(cross_entropy)"
   ]
  },
  {
   "cell_type": "markdown",
   "metadata": {
    "deletable": true,
    "editable": true
   },
   "source": [
    "## 正解率\n",
    "得られたパラメータを用いて入力から予測する\n",
    "tf.equal : 渡された2つのベクトルが一致しているか\n",
    "\n",
    "tf.argmax() : 第２パラメータに「1」を入れると、第１パラメータの行ごとの最大の列を返す\n",
    "\n",
    "reduce_mean : 任意の次元のテンソルの平均を求める\n",
    "tf.cast : 第1パラメーターを第2パラメーターのデータ・タイプに変換する"
   ]
  },
  {
   "cell_type": "code",
   "execution_count": 23,
   "metadata": {
    "collapsed": false,
    "deletable": true,
    "editable": true
   },
   "outputs": [],
   "source": [
    "# 正解率を求める\n",
    "predict = tf.equal(tf.argmax(y, 1), tf.argmax(y_,1))\n",
    "accuracy = tf.reduce_mean(tf.cast(predict, tf.float32))"
   ]
  },
  {
   "cell_type": "markdown",
   "metadata": {
    "deletable": true,
    "editable": true
   },
   "source": [
    "## 実行\n",
    "tf.Session()：このコマンドでtensorflowで計算を実行するためのセッションが始まる\n",
    "run() : 計算を始める\n",
    "tf.global_variables_initializer：変数の初期化(毎回行う)"
   ]
  },
  {
   "cell_type": "code",
   "execution_count": 29,
   "metadata": {
    "collapsed": false,
    "deletable": true,
    "editable": true
   },
   "outputs": [],
   "source": [
    "# セッションを開始\n",
    "sess = tf.Session()\n",
    "#sess.run(tf.initialize_all_variables()) #変数を初期化 旧バージョン\n",
    "sess.run(tf.global_variables_initializer())"
   ]
  },
  {
   "cell_type": "markdown",
   "metadata": {
    "deletable": true,
    "editable": true
   },
   "source": [
    "## 上で訓練したパラメータをテストデータに使う\n",
    "100サンプルずつ3500回学習\n",
    "データの1番から14101番まで訓練で使う\n",
    "x_pat : 2つの入力部分のデータだけ取得\n",
    "y_ans : 出力となる[1,0,0]のようなリストを取得\n",
    "fd : 辞書\n",
    "\n",
    "train : 最適化の関数的な\n",
    "feed_dict : Placeholderは実行時にfeed_dictという仕組みを通じて値を外挿できる仕組み\n",
    "\n",
    "500ステップごとに誤差関数の値と正解率を返す\n",
    "\n",
    "test_pat : 取り出しておいたテスト用の(5000,2)の入力\n",
    "test_ans : 取り出しておいたテスト用の(5000,1)の正解"
   ]
  },
  {
   "cell_type": "code",
   "execution_count": 30,
   "metadata": {
    "collapsed": false,
    "deletable": true,
    "editable": true
   },
   "outputs": [
    {
     "name": "stdout",
     "output_type": "stream",
     "text": [
      "step= 0 cre= 108.663 acc= 0.3242\n",
      "step= 500 cre= 57.5887 acc= 0.8904\n",
      "step= 1000 cre= 45.0209 acc= 0.898\n",
      "step= 1500 cre= 41.6543 acc= 0.9566\n",
      "step= 2000 cre= 34.664 acc= 0.943\n",
      "step= 2500 cre= 34.287 acc= 0.9674\n",
      "step= 3000 cre= 26.8808 acc= 0.9726\n",
      "正解率= 0.9712\n"
     ]
    }
   ],
   "source": [
    "# テストデータを用いて学習させる\n",
    "for step in range(3500):\n",
    "    i = (step * 100) % 14000\n",
    "    rows = csv[1 + i : 1 + i + 100]\n",
    "    x_pat = rows[[\"weight\",\"height\"]]\n",
    "    y_ans = list(rows[\"label_pat\"])\n",
    "    fd = {x: x_pat, y_: y_ans}\n",
    "    \n",
    "    sess.run(train, feed_dict=fd)\n",
    "    \n",
    "    if step % 500 == 0:\n",
    "        cre = sess.run(cross_entropy, feed_dict=fd)\n",
    "        acc = sess.run(accuracy, feed_dict={x: test_pat, y_: test_ans})\n",
    "        print(\"step=\", step, \"cre=\", cre, \"acc=\", acc)\n",
    "\n",
    "# 最終的な正解率を求める\n",
    "acc = sess.run(accuracy, feed_dict={x: test_pat, y_: test_ans})\n",
    "print(\"正解率=\", acc)"
   ]
  },
  {
   "cell_type": "markdown",
   "metadata": {
    "deletable": true,
    "editable": true
   },
   "source": [
    "## 正解かどうかを返す\n",
    "(5000,1)のtrue or false"
   ]
  },
  {
   "cell_type": "code",
   "execution_count": 32,
   "metadata": {
    "collapsed": false,
    "deletable": true,
    "editable": true
   },
   "outputs": [
    {
     "data": {
      "text/plain": [
       "(5000,)"
      ]
     },
     "execution_count": 32,
     "metadata": {},
     "output_type": "execute_result"
    }
   ],
   "source": [
    "sess.run(predict, feed_dict={x: test_pat, y_: test_ans})"
   ]
  },
  {
   "cell_type": "markdown",
   "metadata": {
    "deletable": true,
    "editable": true
   },
   "source": [
    "## ソフトマックス回帰より得られる出力\n",
    "(5000, 3)の行列"
   ]
  },
  {
   "cell_type": "code",
   "execution_count": 33,
   "metadata": {
    "collapsed": false,
    "deletable": true,
    "editable": true
   },
   "outputs": [
    {
     "data": {
      "text/plain": [
       "array([[  8.83783959e-03,   2.96603352e-01,   6.94558859e-01],\n",
       "       [  8.04228842e-01,   1.91755563e-01,   4.01561800e-03],\n",
       "       [  1.04206100e-01,   7.76886463e-01,   1.18907429e-01],\n",
       "       ..., \n",
       "       [  9.95831430e-01,   4.16785572e-03,   7.23445680e-07],\n",
       "       [  9.56869841e-01,   4.30755280e-02,   5.45924886e-05],\n",
       "       [  2.36273110e-02,   5.50715029e-01,   4.25657690e-01]], dtype=float32)"
      ]
     },
     "execution_count": 33,
     "metadata": {},
     "output_type": "execute_result"
    }
   ],
   "source": [
    "sess.run(y, feed_dict={x: test_pat, y_: test_ans})"
   ]
  },
  {
   "cell_type": "markdown",
   "metadata": {
    "deletable": true,
    "editable": true
   },
   "source": [
    "## 最大の列番号を返す\n",
    "つまり、分類結果を表す"
   ]
  },
  {
   "cell_type": "code",
   "execution_count": 34,
   "metadata": {
    "collapsed": false,
    "deletable": true,
    "editable": true
   },
   "outputs": [
    {
     "data": {
      "text/plain": [
       "array([2, 0, 1, ..., 0, 0, 1])"
      ]
     },
     "execution_count": 34,
     "metadata": {},
     "output_type": "execute_result"
    }
   ],
   "source": [
    "sess.run(tf.argmax(y,1), feed_dict={x: test_pat, y_: test_ans})"
   ]
  },
  {
   "cell_type": "code",
   "execution_count": null,
   "metadata": {
    "collapsed": true,
    "deletable": true,
    "editable": true
   },
   "outputs": [],
   "source": []
  }
 ],
 "metadata": {
  "kernelspec": {
   "display_name": "Python 3",
   "language": "python",
   "name": "python3"
  },
  "language_info": {
   "codemirror_mode": {
    "name": "ipython",
    "version": 3
   },
   "file_extension": ".py",
   "mimetype": "text/x-python",
   "name": "python",
   "nbconvert_exporter": "python",
   "pygments_lexer": "ipython3",
   "version": "3.5.0"
  },
  "toc": {
   "nav_menu": {},
   "number_sections": true,
   "sideBar": true,
   "skip_h1_title": false,
   "toc_cell": false,
   "toc_position": {},
   "toc_section_display": "block",
   "toc_window_display": false
  }
 },
 "nbformat": 4,
 "nbformat_minor": 2
}
